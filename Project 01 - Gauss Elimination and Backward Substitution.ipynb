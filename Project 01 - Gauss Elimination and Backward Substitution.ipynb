{
 "cells": [
  {
   "cell_type": "markdown",
   "metadata": {
    "id": "fRqP6IptYfvc"
   },
   "source": [
    "\n",
    "- Student's name: Nguyễn Trung Nguyên\n",
    "- ID: 20127404\n",
    "\n",
    "# GAUSS ELIMINATION\n",
    "Gaussian elimination, also known as row reduction, is an algorithm for solving systems of linear equations. It consists of a sequence of operations performed on the corresponding matrix of coefficients. This method can also be used to compute the rank of a matrix, the determinant of a square matrix, and the inverse of an invertible matrix. The method is named after Carl Friedrich Gauss (1777–1855) although some special cases of the method—albeit presented without proof—were known to Chinese mathematicians as early as circa 179 CE.\n",
    "\n",
    "To perform row reduction on a matrix, one uses a sequence of elementary row operations to modify the matrix until the lower left-hand corner of the matrix is filled with zeros, as much as possible. There are three types of elementary row operations:\n",
    "\n",
    "- Swapping two rows,\n",
    "- Multiplying a row by a nonzero number,\n",
    "- Adding a multiple of one row to another row. (subtraction can be achieved by multiplying one row with -1 and adding the result to another row).\n",
    "\n",
    "_Source: Wikipedia_\n",
    "\n",
    "\n",
    "\n",
    "\n",
    "\n"
   ]
  },
  {
   "cell_type": "code",
   "execution_count": 1,
   "metadata": {
    "id": "Qb5qfdY3VJbu"
   },
   "outputs": [],
   "source": [
    "# Matrix Sample\n",
    "#A = [[1,2,-1,-1],[2,2,1,1],[3,5,-2,-1]]\n",
    "#A = [[1,-2,-1,1],[2,-3,1,6],[3,-5,0,7],[1,0,5,9]]\n",
    "#A = [[1,2,0,2,6],[3,5,-1,6,17],[2,4,1,2,12],[2,0,-7,11,7]]\n",
    "A_noSol = [[2,-4,-1,1],[1,-3,1,1],[3,-5,-3,2]]\n",
    "A_infiSol = [[1,2,-2,3],[3,-1,1,1],[-1,5,-5,5]]\n",
    "A_uniqueSol = [[2,-4,6,8],[1,-1,1,-1],[1,-3,4,0]]\n",
    "#A = [[4,-2,-4,2,1],[6,-3,0,-5,3],[8,-4,28,-44,11],[-8,4,-4,12,-5]]\n",
    "#A = [[1,-2,3,-3],[2,2,0,0],[0,-3,4,1],[1,0,1,-1]]\n",
    "#A = [[3,-3,3,-3],[-1,-5,2,4],[0,-4,2,2],[3,-1,2,-4]] \n",
    "#A = [[1,-1,1,-3,0],[2,-1,4,-2,0]]\n",
    "#A = [[2,-3,4,-1,0],[6,1,-8,9,0],[2,6,1,-1,0]]"
   ]
  },
  {
   "cell_type": "markdown",
   "metadata": {
    "id": "Uy6vW_JdZKkG"
   },
   "source": [
    "# GAUSS ELIMINATION ALGORITHM\n",
    "- Step 1: Set $i = 0$; $j = 0$ .\n",
    "- Step 2: If $i>m - 1$ or $j>n - 1$ then break the loop.\n",
    "- Step 3:\n",
    "  - If $a_{ij} \\neq 0$, then perform the following transformations:\n",
    "  $$d_k - \\frac{a_{kj}}{a{ij}}d_i ~~ with ~ k > i$$\n",
    "  then $i = i + 1$; $j = j + 1$ and return to step 2.\n",
    "  - If $ a_{ij} = 0 $ then move to step 4.\n",
    "- Step 4:\n",
    "  - If $ a_{kj} \\neq 0 $ with a certain $k>i$ value then selet that $k$ and perform the transformation $d_i ↔ d_k$ and return to Step 3.\n",
    "  - If $a_{ik} = 0 ~ \\forall ~ k > i$ then $j = j + 1$ and return to Step 2."
   ]
  },
  {
   "cell_type": "code",
   "execution_count": 2,
   "metadata": {
    "id": "UmIa7GNPXNE8"
   },
   "outputs": [],
   "source": [
    "# GAUSS ELIMINATION - PHÉP KHỬ GAUSS\n",
    "def Gauss_elimination(A):\n",
    "    \"\"\"\n",
    "    Parameters:\n",
    "    -----------\n",
    "    A: Augmented matrix (with n row(s) and m column(s)) of a linear system\n",
    "     -----------\n",
    "    return echelon\n",
    "    \"\"\"\n",
    "    echelon = A\n",
    "    n = len(echelon)\n",
    "    m = len(echelon[0])\n",
    "    i = 0\n",
    "    j = 0\n",
    "    while i <n-1:\n",
    "        if j >= m: return echelon\n",
    "        if(echelon[i][j] != 0):\n",
    "            k = i+1\n",
    "            while k < n: # Forall k > i\n",
    "                alpha = echelon[k][j]/echelon[i][j]\n",
    "                for tempCol in range(m):\n",
    "                    echelon[k][tempCol] -= (alpha*echelon[i][tempCol])\n",
    "                k+=1\n",
    "            i+=1\n",
    "            j+=1\n",
    "        elif(echelon[i][j] == 0):\n",
    "            k = i+1\n",
    "            while k < n: # Forall k > i\n",
    "                if(echelon[k][j] != 0):\n",
    "                    echelon[i], echelon[k] = echelon[k], echelon[i] # Swap row k with row i\n",
    "                    break\n",
    "                elif(echelon[k][j] == 0):\n",
    "                    j+=1\n",
    "                    break\n",
    "                else: k+=1\n",
    "    return echelon"
   ]
  },
  {
   "cell_type": "markdown",
   "metadata": {
    "id": "ypoGOSCEL8yt"
   },
   "source": [
    "# SOLUTION SET\n",
    "A linear system may behave in  any one of three possible ways:\n",
    "1. The system has _infinitely many solutions_.\n",
    "2. The system has a _single unique solution_.\n",
    "3. The system has _no solution_.\n"
   ]
  },
  {
   "cell_type": "code",
   "execution_count": 3,
   "metadata": {
    "id": "6Ye8lsXxXG2-"
   },
   "outputs": [],
   "source": [
    "# BACK SUBSTITUTION - PHÉP THẾ NGƯỢC\n",
    "def back_substitution(A):\n",
    "    \"\"\"\n",
    "    Parameter:\n",
    "    ----------\n",
    "    A: Echelon matrix (with n row(s) and m column(s)) of augmented matrix of linear system Ax=b.\n",
    "    ----------\n",
    "    return solution(s) of linear system\n",
    "    \"\"\"\n",
    "    n = len(A)\n",
    "    m = len(A[0])\n",
    "    simpleUniqueSolutionSet = []\n",
    "    # Check if no solution:\n",
    "    for i in range(n-1, -1, -1): # Traversing from the last row\n",
    "        noSolutionFlag = False\n",
    "        for j in range(m -1):\n",
    "            if (A[i][j] != 0): break\n",
    "        if (j == m-2 and A[i][j+1] != 0 and A[i][j] == 0):\n",
    "            noSolutionFlag = True\n",
    "            break\n",
    "        \n",
    "    if noSolutionFlag == True: \n",
    "        print(\"Linear system had no solution!\")\n",
    "        return\n",
    "        \n",
    "    # Check if linear system had infinitly many solutions:\n",
    "    for i in range(1, n):\n",
    "        if (A[i][i] == 0):\n",
    "            print(\"Linear system had infintely many solutions!\")\n",
    "            return\n",
    "\n",
    "    # Find simple unique solution\n",
    "    for i in range(n-1, -1 , -1):\n",
    "        j = m - 1\n",
    "        if(i == n-1 and j == m-1):\n",
    "            x = A[i][j]/A[i][j-1]\n",
    "            simpleUniqueSolutionSet.append(x)\n",
    "        else:\n",
    "            x = A[i][j]\n",
    "            nSol = len(simpleUniqueSolutionSet)\n",
    "            for iSol in range(nSol - 1, -1, -1): # nSol: size of simpleUniqueSolutionSet[]\n",
    "                x -= (simpleUniqueSolutionSet[iSol]*A[i][j - (iSol+1)]) \n",
    "            x = x/A[i][j-(nSol+1)]\n",
    "            simpleUniqueSolutionSet.append(x)\n",
    "    print(\"Linear system had single unique solution: \")\n",
    "    nSol = len(simpleUniqueSolutionSet) # Update simpleUniqueSolutionSet[] size\n",
    "    for i in range(nSol):\n",
    "        xOrder = i + 1\n",
    "        x=simpleUniqueSolutionSet.pop()\n",
    "        print(\"x\", xOrder, \"= \", x)\n",
    "    return"
   ]
  },
  {
   "cell_type": "markdown",
   "metadata": {},
   "source": [
    "# Test case\n",
    "## 1. No Solution"
   ]
  },
  {
   "cell_type": "code",
   "execution_count": 4,
   "metadata": {},
   "outputs": [
    {
     "name": "stdout",
     "output_type": "stream",
     "text": [
      "[2, -4, -1, 1]\n",
      "[0.0, -1.0, 1.5, 0.5]\n",
      "[0.0, 0.0, 0.0, 1.0]\n",
      "Linear system had no solution!\n"
     ]
    }
   ],
   "source": [
    "echelon_noSol = Gauss_elimination(A_noSol)\n",
    "for i in range(len(echelon_noSol)):\n",
    "    print(echelon_noSol[i])\n",
    "back_substitution(echelon_noSol)"
   ]
  },
  {
   "cell_type": "markdown",
   "metadata": {},
   "source": [
    "## 2. Infinitely many solutions"
   ]
  },
  {
   "cell_type": "code",
   "execution_count": 5,
   "metadata": {},
   "outputs": [
    {
     "name": "stdout",
     "output_type": "stream",
     "text": [
      "[1, 2, -2, 3]\n",
      "[0.0, -7.0, 7.0, -8.0]\n",
      "[0.0, 0.0, 0.0, 0.0]\n",
      "Linear system had infintely many solutions!\n"
     ]
    }
   ],
   "source": [
    "echelon_infiSol = Gauss_elimination(A_infiSol)\n",
    "for i in range(len(echelon_infiSol)):\n",
    "    print(echelon_infiSol[i])\n",
    "back_substitution(echelon_infiSol)"
   ]
  },
  {
   "cell_type": "markdown",
   "metadata": {},
   "source": [
    "## 3. Single Unique solution"
   ]
  },
  {
   "cell_type": "code",
   "execution_count": 6,
   "metadata": {},
   "outputs": [
    {
     "name": "stdout",
     "output_type": "stream",
     "text": [
      "[2, -4, 6, 8]\n",
      "[0.0, 1.0, -2.0, -5.0]\n",
      "[0.0, 0.0, -1.0, -9.0]\n",
      "Linear system had single unique solution: \n",
      "x 1 =  3.0\n",
      "x 2 =  13.0\n",
      "x 3 =  9.0\n"
     ]
    }
   ],
   "source": [
    "echelon_uniqueSol = Gauss_elimination(A_uniqueSol)\n",
    "for i in range(len(echelon_uniqueSol)):\n",
    "    print(echelon_uniqueSol[i])\n",
    "back_substitution(echelon_uniqueSol)"
   ]
  }
 ],
 "metadata": {
  "colab": {
   "collapsed_sections": [],
   "name": "GaussElimination.ipynb",
   "provenance": []
  },
  "interpreter": {
   "hash": "18fe00efaee7ee0b981cfc309b227b1b384f9798cb326a021e7eb9b839425ff2"
  },
  "kernelspec": {
   "display_name": "Python 3 (ipykernel)",
   "language": "python",
   "name": "python3"
  },
  "language_info": {
   "codemirror_mode": {
    "name": "ipython",
    "version": 3
   },
   "file_extension": ".py",
   "mimetype": "text/x-python",
   "name": "python",
   "nbconvert_exporter": "python",
   "pygments_lexer": "ipython3",
   "version": "3.9.7"
  }
 },
 "nbformat": 4,
 "nbformat_minor": 1
}
